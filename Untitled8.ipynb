{
  "nbformat": 4,
  "nbformat_minor": 0,
  "metadata": {
    "colab": {
      "name": "Untitled8.ipynb",
      "provenance": []
    },
    "kernelspec": {
      "name": "python3",
      "display_name": "Python 3"
    }
  },
  "cells": [
    {
      "cell_type": "code",
      "metadata": {
        "id": "xRRL-rYRU6HW",
        "colab_type": "code",
        "colab": {}
      },
      "source": [
        ""
      ],
      "execution_count": 0,
      "outputs": []
    },
    {
      "cell_type": "markdown",
      "metadata": {
        "id": "krn2laMVVKnH",
        "colab_type": "text"
      },
      "source": [
        "Creating the matrix for control group"
      ]
    },
    {
      "cell_type": "code",
      "metadata": {
        "id": "GrsVFKhRXTYV",
        "colab_type": "code",
        "colab": {}
      },
      "source": [
        "control= [[2, 3, 0], [1, 2, 0], [2, 1, 0]]"
      ],
      "execution_count": 0,
      "outputs": []
    },
    {
      "cell_type": "markdown",
      "metadata": {
        "id": "9eqnpNw_pCNb",
        "colab_type": "text"
      },
      "source": [
        "Creating the matrix for disease group"
      ]
    },
    {
      "cell_type": "code",
      "metadata": {
        "id": "ObSfJ7SuXnMU",
        "colab_type": "code",
        "colab": {}
      },
      "source": [
        "disease= [[6, 7, 1], [7, 9, 1], [8, 9, 1]]"
      ],
      "execution_count": 0,
      "outputs": []
    },
    {
      "cell_type": "code",
      "metadata": {
        "id": "rrKBf5s6Xwat",
        "colab_type": "code",
        "colab": {}
      },
      "source": [
        "full= control + disease"
      ],
      "execution_count": 0,
      "outputs": []
    },
    {
      "cell_type": "code",
      "metadata": {
        "id": "NVn4WIfjXwkw",
        "colab_type": "code",
        "colab": {
          "base_uri": "https://localhost:8080/",
          "height": 34
        },
        "outputId": "0b2180f7-a76f-455b-9706-0236ee95f068"
      },
      "source": [
        "full"
      ],
      "execution_count": 5,
      "outputs": [
        {
          "output_type": "execute_result",
          "data": {
            "text/plain": [
              "[[2, 3, 0], [1, 2, 0], [2, 1, 0], [6, 7, 1], [7, 9, 1], [8, 9, 1]]"
            ]
          },
          "metadata": {
            "tags": []
          },
          "execution_count": 5
        }
      ]
    },
    {
      "cell_type": "code",
      "metadata": {
        "id": "jHxB3HUjYJFj",
        "colab_type": "code",
        "colab": {
          "base_uri": "https://localhost:8080/",
          "height": 34
        },
        "outputId": "ede12c52-8a03-4a0a-be74-385c0adb57de"
      },
      "source": [
        "len(full)"
      ],
      "execution_count": 6,
      "outputs": [
        {
          "output_type": "execute_result",
          "data": {
            "text/plain": [
              "6"
            ]
          },
          "metadata": {
            "tags": []
          },
          "execution_count": 6
        }
      ]
    },
    {
      "cell_type": "code",
      "metadata": {
        "id": "myaRmhqDYOXh",
        "colab_type": "code",
        "colab": {
          "base_uri": "https://localhost:8080/",
          "height": 34
        },
        "outputId": "9691bc15-171c-41da-a41b-f63907fec465"
      },
      "source": [
        "full[0]"
      ],
      "execution_count": 7,
      "outputs": [
        {
          "output_type": "execute_result",
          "data": {
            "text/plain": [
              "[2, 3, 0]"
            ]
          },
          "metadata": {
            "tags": []
          },
          "execution_count": 7
        }
      ]
    },
    {
      "cell_type": "markdown",
      "metadata": {
        "id": "eMsoRqR7nSkB",
        "colab_type": "text"
      },
      "source": [
        "We can create a dictionary object where each key is the class value and then add a list of all the records as the value in the dictionary.\n"
      ]
    },
    {
      "cell_type": "code",
      "metadata": {
        "id": "TP1Pnu-_n0xJ",
        "colab_type": "code",
        "colab": {}
      },
      "source": [
        ""
      ],
      "execution_count": 0,
      "outputs": []
    },
    {
      "cell_type": "code",
      "metadata": {
        "id": "f_eRqR5EXwod",
        "colab_type": "code",
        "colab": {}
      },
      "source": [
        "def separate(data):\n",
        "\tseparated = dict()\n",
        "\tfor i in range(len(data)):\n",
        "\t\tvector = data[i]\n",
        "\t\tclass_value = vector[-1]\n",
        "\t\tif class_value not in separated:\n",
        "\t\t\tseparated[class_value] = list()\n",
        "\t\tseparated[class_value].append(vector)\n",
        "\treturn separated"
      ],
      "execution_count": 0,
      "outputs": []
    },
    {
      "cell_type": "code",
      "metadata": {
        "id": "qiVwWy2UXwsy",
        "colab_type": "code",
        "colab": {}
      },
      "source": [
        "separated= separate(full)"
      ],
      "execution_count": 0,
      "outputs": []
    },
    {
      "cell_type": "code",
      "metadata": {
        "id": "GnXJv57TXwxO",
        "colab_type": "code",
        "colab": {
          "base_uri": "https://localhost:8080/",
          "height": 156
        },
        "outputId": "e548acdf-38b1-4866-b6c4-57fcbd0db13b"
      },
      "source": [
        "for key in separated:\n",
        "\tprint(key)\n",
        "\tfor row in separated[key]:\n",
        "\t\tprint(row)"
      ],
      "execution_count": 16,
      "outputs": [
        {
          "output_type": "stream",
          "text": [
            "0\n",
            "[2, 3, 0]\n",
            "[1, 2, 0]\n",
            "[2, 1, 0]\n",
            "1\n",
            "[6, 7, 1]\n",
            "[7, 9, 1]\n",
            "[8, 9, 1]\n"
          ],
          "name": "stdout"
        }
      ]
    },
    {
      "cell_type": "code",
      "metadata": {
        "id": "VjV0n45IXw1C",
        "colab_type": "code",
        "colab": {}
      },
      "source": [
        "def mean(numbers):\n",
        "\treturn sum(numbers)/float(len(numbers))"
      ],
      "execution_count": 0,
      "outputs": []
    },
    {
      "cell_type": "code",
      "metadata": {
        "id": "NwN6QY_adCmA",
        "colab_type": "code",
        "colab": {}
      },
      "source": [
        "def sqrt(number):\n",
        "  return number ** 0.5"
      ],
      "execution_count": 0,
      "outputs": []
    },
    {
      "cell_type": "code",
      "metadata": {
        "id": "t-SZ1EPVbNOo",
        "colab_type": "code",
        "colab": {}
      },
      "source": [
        "# Calculate the standard deviation of a list of numbers\n",
        "def stdev(numbers):\n",
        "\tavg = mean(numbers)\n",
        "\tvariance = sum([(x-avg)**2 for x in numbers]) / float(len(numbers)-1)\n",
        "\treturn sqrt(variance)"
      ],
      "execution_count": 0,
      "outputs": []
    },
    {
      "cell_type": "markdown",
      "metadata": {
        "id": "gEzvGysTn55h",
        "colab_type": "text"
      },
      "source": [
        "We need two statistics from a given set of data.\n",
        "\n",
        "We’ll see how these statistics are used in the calculation of probabilities in a few steps. The two statistics we require from a given dataset are the mean and the standard deviation (average deviation from the mean)."
      ]
    },
    {
      "cell_type": "code",
      "metadata": {
        "id": "95o2NnUubNUQ",
        "colab_type": "code",
        "colab": {}
      },
      "source": [
        "# Calculate the mean, stdev and count for each column in a dataset\n",
        "def summarize_dataset(dataset):\n",
        "\tsummaries = [(mean(column), stdev(column), len(column)) for column in zip(*dataset)]\n",
        "\tdel(summaries[-1])\n",
        "\treturn summaries"
      ],
      "execution_count": 0,
      "outputs": []
    },
    {
      "cell_type": "code",
      "metadata": {
        "id": "dHnZGLxNeEt0",
        "colab_type": "code",
        "colab": {
          "base_uri": "https://localhost:8080/",
          "height": 34
        },
        "outputId": "5917873d-f750-4bd1-c154-c1b677f8dde3"
      },
      "source": [
        "full"
      ],
      "execution_count": 23,
      "outputs": [
        {
          "output_type": "execute_result",
          "data": {
            "text/plain": [
              "[[2, 3, 0], [1, 2, 0], [2, 1, 0], [6, 7, 1], [7, 9, 1], [8, 9, 1]]"
            ]
          },
          "metadata": {
            "tags": []
          },
          "execution_count": 23
        }
      ]
    },
    {
      "cell_type": "code",
      "metadata": {
        "id": "CqTHCbKkbNbs",
        "colab_type": "code",
        "colab": {
          "base_uri": "https://localhost:8080/",
          "height": 52
        },
        "outputId": "827e74bd-7177-40ca-8b70-fb30cffa837e"
      },
      "source": [
        "summarize_dataset(full)"
      ],
      "execution_count": 31,
      "outputs": [
        {
          "output_type": "execute_result",
          "data": {
            "text/plain": [
              "[(4.333333333333333, 3.011090610836324, 6),\n",
              " (5.166666666666667, 3.6009258068817065, 6)]"
            ]
          },
          "metadata": {
            "tags": []
          },
          "execution_count": 31
        }
      ]
    },
    {
      "cell_type": "code",
      "metadata": {
        "id": "djlPwsGKcw2V",
        "colab_type": "code",
        "colab": {}
      },
      "source": [
        "def summarize_by_class(dataset):\n",
        "\tseparated = separate(dataset)\n",
        "\tsummaries = dict()\n",
        "\tfor class_value, rows in separated.items():\n",
        "\t\tsummaries[class_value] = summarize_dataset(rows)\n",
        "\treturn summaries"
      ],
      "execution_count": 0,
      "outputs": []
    },
    {
      "cell_type": "code",
      "metadata": {
        "id": "8bGS3cWxcw7n",
        "colab_type": "code",
        "colab": {
          "base_uri": "https://localhost:8080/",
          "height": 52
        },
        "outputId": "0480f03b-e0e3-4a6f-c899-e1d64e15fa92"
      },
      "source": [
        "summarize_by_class(full)"
      ],
      "execution_count": 33,
      "outputs": [
        {
          "output_type": "execute_result",
          "data": {
            "text/plain": [
              "{0: [(1.6666666666666667, 0.5773502691896257, 3), (2.0, 1.0, 3)],\n",
              " 1: [(7.0, 1.0, 3), (8.333333333333334, 1.1547005383792517, 3)]}"
            ]
          },
          "metadata": {
            "tags": []
          },
          "execution_count": 33
        }
      ]
    },
    {
      "cell_type": "code",
      "metadata": {
        "id": "nuzeNwx9cwyZ",
        "colab_type": "code",
        "colab": {}
      },
      "source": [
        "pi= 3.141592"
      ],
      "execution_count": 0,
      "outputs": []
    },
    {
      "cell_type": "code",
      "metadata": {
        "id": "LH0eHGcch9zx",
        "colab_type": "code",
        "colab": {}
      },
      "source": [
        "def exp(x):\n",
        "  \n",
        "  return 2.718281 ** x"
      ],
      "execution_count": 0,
      "outputs": []
    },
    {
      "cell_type": "markdown",
      "metadata": {
        "id": "YpTcUoCdoR0c",
        "colab_type": "text"
      },
      "source": [
        "Calculating the probability or likelihood of observing a given real-value like X1 is difficult.\n",
        "\n",
        "One way we can do this is to assume that X1 values are drawn from a distribution, such as a bell curve or Gaussian distribution.\n",
        "\n",
        "A Gaussian distribution can be summarized using only two numbers: the mean and the standard deviation. Therefore, with a little math, we can estimate the probability of a given value. This piece of math is called a Gaussian Probability Distribution Function (or Gaussian PDF) and can be calculated as:\n",
        "\n",
        "    f(x) = (1 / sqrt(2 * PI) * sigma) * exp(-((x-mean)^2 / (2 * sigma^2)))\n",
        "\n",
        "Where sigma is the standard deviation for x, mean is the mean for x and PI is the value of pi."
      ]
    },
    {
      "cell_type": "code",
      "metadata": {
        "id": "IDmKnTaXh93Q",
        "colab_type": "code",
        "colab": {}
      },
      "source": [
        "def calculate_probability(x, mean, stdev):\n",
        "\texponent = exp(-((x-mean)**2 / (2 * stdev**2 )))\n",
        "\treturn (1 / (sqrt(2 * pi) * stdev)) * exponent"
      ],
      "execution_count": 0,
      "outputs": []
    },
    {
      "cell_type": "code",
      "metadata": {
        "id": "fAYdGACIh-C8",
        "colab_type": "code",
        "colab": {
          "base_uri": "https://localhost:8080/",
          "height": 34
        },
        "outputId": "98957846-109b-4136-b7c2-3aeb1644ebc1"
      },
      "source": [
        "print(calculate_probability(1.0, 1.0, 1.0))\n"
      ],
      "execution_count": 58,
      "outputs": [
        {
          "output_type": "stream",
          "text": [
            "0.3989423219002315\n"
          ],
          "name": "stdout"
        }
      ]
    },
    {
      "cell_type": "markdown",
      "metadata": {
        "id": "9No76SXPopAB",
        "colab_type": "text"
      },
      "source": [
        "Now it is time to use the statistics calculated from our training data to calculate probabilities for new data.\n",
        "\n",
        "Probabilities are calculated separately for each class. This means that we first calculate the probability that a new piece of data belongs to the first class, then calculate probabilities that it belongs to the second class, and so on for all the classes.\n",
        "\n",
        "The probability that a piece of data belongs to a class is calculated as follows:\n",
        "\n",
        "    P(class|data) = P(X|class) * P(class)\n",
        "\n",
        "You may note that this is different from the Bayes Theorem described above.\n",
        "\n",
        "The division has been removed to simplify the calculation.\n",
        "\n",
        "This means that the result is no longer strictly a probability of the data belonging to a class. The value is still maximized, meaning that the calculation for the class that results in the largest value is taken as the prediction. This is a common implementation simplification as we are often more interested in the class prediction rather than the probability."
      ]
    },
    {
      "cell_type": "code",
      "metadata": {
        "id": "mIgGsmt1h9vk",
        "colab_type": "code",
        "colab": {}
      },
      "source": [
        "def calculate_class_probabilities(summaries, row):\n",
        "\ttotal_rows = sum([summaries[label][0][2] for label in summaries])\n",
        "\tprobabilities = dict()\n",
        "\tfor class_value, class_summaries in summaries.items():\n",
        "\t\tprobabilities[class_value] = summaries[class_value][0][2]/float(total_rows)\n",
        "\t\tfor i in range(len(class_summaries)):\n",
        "\t\t\tmean, stdev, count = class_summaries[i]\n",
        "\t\t\tprobabilities[class_value] *= calculate_probability(row[i], mean, stdev)\n",
        "\treturn probabilities"
      ],
      "execution_count": 0,
      "outputs": []
    },
    {
      "cell_type": "code",
      "metadata": {
        "id": "-2UPISc1lKXV",
        "colab_type": "code",
        "colab": {}
      },
      "source": [
        "summaries = summarize_by_class(full)"
      ],
      "execution_count": 0,
      "outputs": []
    },
    {
      "cell_type": "code",
      "metadata": {
        "id": "_O9jL_WSkx1W",
        "colab_type": "code",
        "colab": {
          "base_uri": "https://localhost:8080/",
          "height": 34
        },
        "outputId": "f2ef7716-22ec-47c9-bb52-f4b776857ee7"
      },
      "source": [
        "calculate_class_probabilities(summaries, full[0])"
      ],
      "execution_count": 63,
      "outputs": [
        {
          "output_type": "execute_result",
          "data": {
            "text/plain": [
              "{0: 0.07076545238232002, 1: 5.986437145149851e-12}"
            ]
          },
          "metadata": {
            "tags": []
          },
          "execution_count": 63
        }
      ]
    },
    {
      "cell_type": "markdown",
      "metadata": {
        "id": "y2DmggUPpgzB",
        "colab_type": "text"
      },
      "source": [
        "Thus, function calculate_class_probabilities predicts higher p value for class 0, which is correct. "
      ]
    },
    {
      "cell_type": "code",
      "metadata": {
        "id": "05bTzZ6Mkx64",
        "colab_type": "code",
        "colab": {}
      },
      "source": [
        ""
      ],
      "execution_count": 0,
      "outputs": []
    },
    {
      "cell_type": "code",
      "metadata": {
        "id": "MhS07TRAkyCl",
        "colab_type": "code",
        "colab": {}
      },
      "source": [
        ""
      ],
      "execution_count": 0,
      "outputs": []
    },
    {
      "cell_type": "code",
      "metadata": {
        "id": "NZPKJkpxkyHn",
        "colab_type": "code",
        "colab": {}
      },
      "source": [
        ""
      ],
      "execution_count": 0,
      "outputs": []
    },
    {
      "cell_type": "code",
      "metadata": {
        "id": "E1C67OXskyN1",
        "colab_type": "code",
        "colab": {}
      },
      "source": [
        ""
      ],
      "execution_count": 0,
      "outputs": []
    }
  ]
}